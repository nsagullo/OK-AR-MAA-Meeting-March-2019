{
 "cells": [
  {
   "cell_type": "markdown",
   "metadata": {},
   "source": [
    "# Subspaces (from Linear Algebra and its Applications, 5th edition)"
   ]
  },
  {
   "cell_type": "markdown",
   "metadata": {},
   "source": [
    "The goal is to understand what is required for two subspaces of $\\mathbb{R}^n$ with the same dimension to be the same set. Consider the two matrices below."
   ]
  },
  {
   "cell_type": "code",
   "execution_count": null,
   "metadata": {},
   "outputs": [],
   "source": [
    "A=[32     2   -10     0;\n",
    "    -6    -4     0    -1;\n",
    "    12     0     8    10;\n",
    "    -9    -2     7     0;\n",
    "   -38    -8    12    -5]"
   ]
  },
  {
   "cell_type": "code",
   "execution_count": null,
   "metadata": {},
   "outputs": [],
   "source": [
    "B=[-2     1     9    -1    -4;\n",
    "     0     1    -2     1     3;\n",
    "     0     6     0     2     2;\n",
    "    -3     3     1    -1    -3;\n",
    "    -4     3    -4    -1    -1]"
   ]
  },
  {
   "cell_type": "markdown",
   "metadata": {},
   "source": [
    "1) Verify that Col(A) and Col(B) have the same dimension. (HINT: Recall the definition of rank of a matrix.)"
   ]
  },
  {
   "cell_type": "code",
   "execution_count": null,
   "metadata": {},
   "outputs": [],
   "source": []
  },
  {
   "cell_type": "markdown",
   "metadata": {},
   "source": [
    "2) Determine whether or not Col(A) and Col(B) are the same subspace of $\\mathbb{R}^5$. Explain what you calculated and why it worked.  Notice that this is not obvious. For example, if two subspaces of $\\mathbb{R}^3$ each have dimension 1, then each will be a line through the origin, but they might not be the same line.  If each has dimension 2, then they are planes through the origin but not necessarily the same plane.  In general, if two subspaces of $\\mathbb{R}^n$ have the same dimension $k$, then we can visualize each as looking like $\\mathbb{R}^k$--but they might not be the same sets.  Your goal is to figure out a way to decide if two subspaces of $\\mathbb{R}^n$, which have the same dimension, are actually the same set of points (vectors) and apply your method to the subspaces Col(A) and Col(B).\n",
    "\n",
    "Make sure to explain and support your answers!"
   ]
  },
  {
   "cell_type": "markdown",
   "metadata": {},
   "source": [
    "Do your computations below"
   ]
  },
  {
   "cell_type": "code",
   "execution_count": null,
   "metadata": {},
   "outputs": [],
   "source": []
  },
  {
   "cell_type": "markdown",
   "metadata": {},
   "source": [
    "Type your explanation below"
   ]
  },
  {
   "cell_type": "markdown",
   "metadata": {},
   "source": []
  }
 ],
 "metadata": {
  "kernelspec": {
   "display_name": "Julia 1.1.0",
   "language": "julia",
   "name": "julia-1.1"
  },
  "language_info": {
   "file_extension": ".jl",
   "mimetype": "application/julia",
   "name": "julia",
   "version": "1.1.0"
  }
 },
 "nbformat": 4,
 "nbformat_minor": 2
}
